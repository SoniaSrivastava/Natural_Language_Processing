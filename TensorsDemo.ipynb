{
  "nbformat": 4,
  "nbformat_minor": 0,
  "metadata": {
    "colab": {
      "provenance": [],
      "authorship_tag": "ABX9TyNswvLIjQDA+fjhpf5/BaE4",
      "include_colab_link": true
    },
    "kernelspec": {
      "name": "python3",
      "display_name": "Python 3"
    },
    "language_info": {
      "name": "python"
    }
  },
  "cells": [
    {
      "cell_type": "markdown",
      "metadata": {
        "id": "view-in-github",
        "colab_type": "text"
      },
      "source": [
        "<a href=\"https://colab.research.google.com/github/SoniaSrivastava/Natural_Language_Processing/blob/main/TensorsDemo.ipynb\" target=\"_parent\"><img src=\"https://colab.research.google.com/assets/colab-badge.svg\" alt=\"Open In Colab\"/></a>"
      ]
    },
    {
      "cell_type": "code",
      "execution_count": null,
      "metadata": {
        "id": "DDbiupvPB_rV"
      },
      "outputs": [],
      "source": [
        "import tensorflow as tf"
      ]
    },
    {
      "cell_type": "code",
      "source": [
        "# Zero Dimension tensor\n",
        "tensor_zero_d = tf.constant(4)\n",
        "print(tensor_zero_d)"
      ],
      "metadata": {
        "colab": {
          "base_uri": "https://localhost:8080/"
        },
        "id": "YOWHbeiwCkFI",
        "outputId": "5c3eefd3-37b5-47a8-f6bc-fdd7da2b857a"
      },
      "execution_count": null,
      "outputs": [
        {
          "output_type": "stream",
          "name": "stdout",
          "text": [
            "tf.Tensor(4, shape=(), dtype=int32)\n"
          ]
        }
      ]
    },
    {
      "cell_type": "code",
      "source": [
        "# One Dimension tensor\n",
        "tensor_one_d = tf.constant([2,0,-3])\n",
        "print(tensor_one_d)"
      ],
      "metadata": {
        "colab": {
          "base_uri": "https://localhost:8080/"
        },
        "id": "61rN_QWTDDuZ",
        "outputId": "c93867bd-e975-4cb2-a6e5-1e97b1699124"
      },
      "execution_count": null,
      "outputs": [
        {
          "output_type": "stream",
          "name": "stdout",
          "text": [
            "tf.Tensor([ 2  0 -3], shape=(3,), dtype=int32)\n"
          ]
        }
      ]
    },
    {
      "cell_type": "code",
      "source": [
        "# Two Dimension tensor\n",
        "tensor_two_d = tf.constant([\n",
        "    [1,2,0],\n",
        "    [3,5,-1],\n",
        "    [1,5,6],\n",
        "    [2,3,8]\n",
        "])\n",
        "print(tensor_two_d)"
      ],
      "metadata": {
        "colab": {
          "base_uri": "https://localhost:8080/"
        },
        "id": "SAZ5CnjzDmo6",
        "outputId": "ca29337e-1625-4f08-df16-21cfa9c1508a"
      },
      "execution_count": null,
      "outputs": [
        {
          "output_type": "stream",
          "name": "stdout",
          "text": [
            "tf.Tensor(\n",
            "[[ 1  2  0]\n",
            " [ 3  5 -1]\n",
            " [ 1  5  6]\n",
            " [ 2  3  8]], shape=(4, 3), dtype=int32)\n"
          ]
        }
      ]
    },
    {
      "cell_type": "code",
      "source": [
        "# Three Dimension tensor\n",
        "tensor_three_d = tf.constant(\n",
        "[[[1,2,0],\n",
        "  [3,5,-1]],\n",
        " [[10,2,0],\n",
        "  [1,0,2]],\n",
        " [[5,8,0],\n",
        "  [2,7,0]],\n",
        " [[2,1,9],\n",
        "  [4,-3,32]]])\n",
        "print(tensor_three_d)"
      ],
      "metadata": {
        "colab": {
          "base_uri": "https://localhost:8080/"
        },
        "id": "aNXC0owLErea",
        "outputId": "b00d4254-ec5b-48b3-e82f-05e5f0b1f60f"
      },
      "execution_count": null,
      "outputs": [
        {
          "output_type": "stream",
          "name": "stdout",
          "text": [
            "tf.Tensor(\n",
            "[[[ 1  2  0]\n",
            "  [ 3  5 -1]]\n",
            "\n",
            " [[10  2  0]\n",
            "  [ 1  0  2]]\n",
            "\n",
            " [[ 5  8  0]\n",
            "  [ 2  7  0]]\n",
            "\n",
            " [[ 2  1  9]\n",
            "  [ 4 -3 32]]], shape=(4, 2, 3), dtype=int32)\n"
          ]
        }
      ]
    },
    {
      "cell_type": "code",
      "source": [
        "# Finding shape of the tensor\n",
        "tensor_three_d.shape"
      ],
      "metadata": {
        "colab": {
          "base_uri": "https://localhost:8080/"
        },
        "id": "NADT0SM1P_Pq",
        "outputId": "711af561-31e7-4145-de3c-23047f744076"
      },
      "execution_count": null,
      "outputs": [
        {
          "output_type": "execute_result",
          "data": {
            "text/plain": [
              "TensorShape([4, 2, 3])"
            ]
          },
          "metadata": {},
          "execution_count": 7
        }
      ]
    },
    {
      "cell_type": "code",
      "source": [
        "# Finding dimension of the tensor\n",
        "tensor_three_d.ndim"
      ],
      "metadata": {
        "colab": {
          "base_uri": "https://localhost:8080/"
        },
        "id": "4OrDa_dCQNmj",
        "outputId": "cf540aa4-7903-4c1f-96fd-26f60a2614f8"
      },
      "execution_count": null,
      "outputs": [
        {
          "output_type": "execute_result",
          "data": {
            "text/plain": [
              "3"
            ]
          },
          "metadata": {},
          "execution_count": 8
        }
      ]
    },
    {
      "cell_type": "code",
      "source": [
        "tensor_one_d_type = tf.constant([2,0,-3], dtype=tf.float32)\n",
        "print(tensor_one_d_type)"
      ],
      "metadata": {
        "colab": {
          "base_uri": "https://localhost:8080/"
        },
        "id": "uBMAVmUMYRqb",
        "outputId": "0f0d8982-57ed-47aa-bba3-63b12f8c3315"
      },
      "execution_count": null,
      "outputs": [
        {
          "output_type": "stream",
          "name": "stdout",
          "text": [
            "tf.Tensor([ 2.  0. -3.], shape=(3,), dtype=float32)\n"
          ]
        }
      ]
    },
    {
      "cell_type": "code",
      "source": [
        "# casting of tensor from one data type to another - in this example from float32 to int64\n",
        "casted_tensor_one_d_type = tf.cast(tensor_one_d_type, dtype=tf.int64)\n",
        "print(casted_tensor_one_d_type)\n"
      ],
      "metadata": {
        "colab": {
          "base_uri": "https://localhost:8080/"
        },
        "id": "m34QS1UcZVs7",
        "outputId": "1c1a81d2-45ef-4349-93d1-4e8aa7ab365b"
      },
      "execution_count": null,
      "outputs": [
        {
          "output_type": "stream",
          "name": "stdout",
          "text": [
            "tf.Tensor([ 2  0 -3], shape=(3,), dtype=int64)\n"
          ]
        }
      ]
    },
    {
      "cell_type": "code",
      "source": [
        "# casting of tensor from one data type to another - in this example from float32 to int64\n",
        "casted_tensor_one_d_type_1 = tf.cast(tensor_one_d_type, dtype=tf.bool)\n",
        "print(casted_tensor_one_d_type_1)"
      ],
      "metadata": {
        "colab": {
          "base_uri": "https://localhost:8080/"
        },
        "id": "G0y2S4rgaNcC",
        "outputId": "b4d813f2-e25e-4da1-daae-01c4d9469dea"
      },
      "execution_count": null,
      "outputs": [
        {
          "output_type": "stream",
          "name": "stdout",
          "text": [
            "tf.Tensor([ True False  True], shape=(3,), dtype=bool)\n"
          ]
        }
      ]
    },
    {
      "cell_type": "code",
      "source": [
        "# Boolean tensor\n",
        "tensor_bool = tf.constant([True, False, True])\n",
        "print(tensor_bool)"
      ],
      "metadata": {
        "colab": {
          "base_uri": "https://localhost:8080/"
        },
        "id": "tJw4JlWwa9PT",
        "outputId": "722acf17-b6fd-41d2-c013-502f9e8102fd"
      },
      "execution_count": null,
      "outputs": [
        {
          "output_type": "stream",
          "name": "stdout",
          "text": [
            "tf.Tensor([ True False  True], shape=(3,), dtype=bool)\n"
          ]
        }
      ]
    },
    {
      "cell_type": "code",
      "source": [
        "# String Tensor\n",
        "tensor_string = tf.constant(\"Hello World!\")\n",
        "print(tensor_string)"
      ],
      "metadata": {
        "colab": {
          "base_uri": "https://localhost:8080/"
        },
        "id": "mjZvXHb5cVmk",
        "outputId": "87231e88-77ef-46cb-f753-9f5695fd1e4d"
      },
      "execution_count": null,
      "outputs": [
        {
          "output_type": "stream",
          "name": "stdout",
          "text": [
            "tf.Tensor(b'Hello World!', shape=(), dtype=string)\n"
          ]
        }
      ]
    },
    {
      "cell_type": "code",
      "source": [
        "import numpy as np\n",
        "np_array = np.array([1,2,4])\n",
        "print(np_array)"
      ],
      "metadata": {
        "colab": {
          "base_uri": "https://localhost:8080/"
        },
        "id": "xKLtpdrHdGYb",
        "outputId": "a128fceb-051d-425f-a0b3-a7ed92d9ce2f"
      },
      "execution_count": null,
      "outputs": [
        {
          "output_type": "stream",
          "name": "stdout",
          "text": [
            "[1 2 4]\n"
          ]
        }
      ]
    },
    {
      "cell_type": "code",
      "source": [
        "converted_tensor = tf.convert_to_tensor(np_array)\n",
        "print(converted_tensor)"
      ],
      "metadata": {
        "colab": {
          "base_uri": "https://localhost:8080/"
        },
        "id": "5NKxW9P_de6s",
        "outputId": "6f1d6f58-80cd-40c1-c699-45c9a5cf6250"
      },
      "execution_count": null,
      "outputs": [
        {
          "output_type": "stream",
          "name": "stdout",
          "text": [
            "tf.Tensor([1 2 4], shape=(3,), dtype=int64)\n"
          ]
        }
      ]
    },
    {
      "cell_type": "code",
      "source": [
        "# Identity matrix tensor\n",
        "eye_tensor = tf.eye(\n",
        "    num_rows = 3,\n",
        "    num_columns = None,\n",
        "    batch_shape = None,\n",
        "    dtype = tf.dtypes.float32,\n",
        "    name = None\n",
        ")\n",
        "print(eye_tensor)"
      ],
      "metadata": {
        "colab": {
          "base_uri": "https://localhost:8080/"
        },
        "id": "-r_esQs_d9m5",
        "outputId": "f3b5850e-d711-402e-f09b-7289d8a7b5f8"
      },
      "execution_count": null,
      "outputs": [
        {
          "output_type": "stream",
          "name": "stdout",
          "text": [
            "tf.Tensor(\n",
            "[[1. 0. 0.]\n",
            " [0. 1. 0.]\n",
            " [0. 0. 1.]], shape=(3, 3), dtype=float32)\n"
          ]
        }
      ]
    },
    {
      "cell_type": "code",
      "source": [
        "print(3*eye_tensor)"
      ],
      "metadata": {
        "colab": {
          "base_uri": "https://localhost:8080/"
        },
        "id": "4VnNpwKMe-7l",
        "outputId": "9a4bcf6c-289e-4f81-ce1b-7db5f941f883"
      },
      "execution_count": null,
      "outputs": [
        {
          "output_type": "stream",
          "name": "stdout",
          "text": [
            "tf.Tensor(\n",
            "[[3. 0. 0.]\n",
            " [0. 3. 0.]\n",
            " [0. 0. 3.]], shape=(3, 3), dtype=float32)\n"
          ]
        }
      ]
    },
    {
      "cell_type": "code",
      "source": [
        "# Set Batch shape\n",
        "# Identity matrix tensor\n",
        "eye_tensor_batch = tf.eye(\n",
        "    num_rows = 3,\n",
        "    num_columns = None,\n",
        "    batch_shape = [3,],\n",
        "    dtype = tf.dtypes.float32,\n",
        "    name = None\n",
        ")\n",
        "print(eye_tensor_batch)"
      ],
      "metadata": {
        "colab": {
          "base_uri": "https://localhost:8080/"
        },
        "id": "p1rbvjT9fgv7",
        "outputId": "37f8e4cd-8295-4b82-c656-6db52694d2cf"
      },
      "execution_count": null,
      "outputs": [
        {
          "output_type": "stream",
          "name": "stdout",
          "text": [
            "tf.Tensor(\n",
            "[[[1. 0. 0.]\n",
            "  [0. 1. 0.]\n",
            "  [0. 0. 1.]]\n",
            "\n",
            " [[1. 0. 0.]\n",
            "  [0. 1. 0.]\n",
            "  [0. 0. 1.]]\n",
            "\n",
            " [[1. 0. 0.]\n",
            "  [0. 1. 0.]\n",
            "  [0. 0. 1.]]], shape=(3, 3, 3), dtype=float32)\n"
          ]
        }
      ]
    },
    {
      "cell_type": "code",
      "source": [
        "# fill method - fill tensor with scalar values\n",
        "fill_tensor = tf.fill([3,4], 5, name=None)\n",
        "print(fill_tensor)"
      ],
      "metadata": {
        "colab": {
          "base_uri": "https://localhost:8080/"
        },
        "id": "vDv_hnjbgEDs",
        "outputId": "b11577e2-e074-42ef-8b40-5b6123f31c35"
      },
      "execution_count": null,
      "outputs": [
        {
          "output_type": "stream",
          "name": "stdout",
          "text": [
            "tf.Tensor(\n",
            "[[5 5 5 5]\n",
            " [5 5 5 5]\n",
            " [5 5 5 5]], shape=(3, 4), dtype=int32)\n"
          ]
        }
      ]
    },
    {
      "cell_type": "code",
      "source": [
        "# ones method - fill tensor with 'one' values\n",
        "ones_tensor = tf.ones([5,3])\n",
        "print(ones_tensor)"
      ],
      "metadata": {
        "colab": {
          "base_uri": "https://localhost:8080/"
        },
        "id": "20ILAIyogubL",
        "outputId": "440e1e0a-ce04-4317-897f-119c7b5b094f"
      },
      "execution_count": null,
      "outputs": [
        {
          "output_type": "stream",
          "name": "stdout",
          "text": [
            "tf.Tensor(\n",
            "[[1. 1. 1.]\n",
            " [1. 1. 1.]\n",
            " [1. 1. 1.]\n",
            " [1. 1. 1.]\n",
            " [1. 1. 1.]], shape=(5, 3), dtype=float32)\n"
          ]
        }
      ]
    },
    {
      "cell_type": "code",
      "source": [
        "# creates a tensor of all ones that has the same shape as the input\n",
        "ones_like_tensor = tf.ones_like(ones_tensor)\n",
        "print(ones_like_tensor)"
      ],
      "metadata": {
        "colab": {
          "base_uri": "https://localhost:8080/"
        },
        "id": "-A2u6a7fhl0T",
        "outputId": "a82cebe6-b783-4db5-cc96-737d685f9a64"
      },
      "execution_count": null,
      "outputs": [
        {
          "output_type": "stream",
          "name": "stdout",
          "text": [
            "tf.Tensor(\n",
            "[[1. 1. 1.]\n",
            " [1. 1. 1.]\n",
            " [1. 1. 1.]\n",
            " [1. 1. 1.]\n",
            " [1. 1. 1.]], shape=(5, 3), dtype=float32)\n"
          ]
        }
      ]
    },
    {
      "cell_type": "code",
      "source": [
        "# creates a tensor of all zeros\n",
        "zeros_tensor = tf.zeros([3,4])\n",
        "print(zeros_tensor)"
      ],
      "metadata": {
        "colab": {
          "base_uri": "https://localhost:8080/"
        },
        "id": "-Al59QXFidNV",
        "outputId": "1e67f7bb-753d-4213-b35e-0640901a01a6"
      },
      "execution_count": null,
      "outputs": [
        {
          "output_type": "stream",
          "name": "stdout",
          "text": [
            "tf.Tensor(\n",
            "[[0. 0. 0. 0.]\n",
            " [0. 0. 0. 0.]\n",
            " [0. 0. 0. 0.]], shape=(3, 4), dtype=float32)\n"
          ]
        }
      ]
    },
    {
      "cell_type": "code",
      "source": [
        "# shape method of tensor\n",
        "print(tf.shape(zeros_tensor))"
      ],
      "metadata": {
        "colab": {
          "base_uri": "https://localhost:8080/"
        },
        "id": "aszK693tjzAX",
        "outputId": "9c21235b-971d-420f-a875-23b4cfac116a"
      },
      "execution_count": null,
      "outputs": [
        {
          "output_type": "stream",
          "name": "stdout",
          "text": [
            "tf.Tensor([3 4], shape=(2,), dtype=int32)\n"
          ]
        }
      ]
    },
    {
      "cell_type": "code",
      "source": [
        "# returns the rank of tensor\n",
        "print(tf.rank(zeros_tensor))"
      ],
      "metadata": {
        "colab": {
          "base_uri": "https://localhost:8080/"
        },
        "id": "rqIYsLCRkAf6",
        "outputId": "74c861df-8ff6-4054-9cbd-7ad8239df36e"
      },
      "execution_count": null,
      "outputs": [
        {
          "output_type": "stream",
          "name": "stdout",
          "text": [
            "tf.Tensor(2, shape=(), dtype=int32)\n"
          ]
        }
      ]
    },
    {
      "cell_type": "code",
      "source": [
        "# returns the size of tensor\n",
        "print(tf.size(zeros_tensor))"
      ],
      "metadata": {
        "colab": {
          "base_uri": "https://localhost:8080/"
        },
        "id": "e6Bu7-ISkcur",
        "outputId": "51944d72-22ef-46ba-a967-40acdcd612fa"
      },
      "execution_count": null,
      "outputs": [
        {
          "output_type": "stream",
          "name": "stdout",
          "text": [
            "tf.Tensor(12, shape=(), dtype=int32)\n"
          ]
        }
      ]
    },
    {
      "cell_type": "code",
      "source": [
        "# return random values tensor that has normal distribution\n",
        "random_normal_tensor = tf.random.normal(\n",
        "    [4,5],\n",
        "    mean = 0,\n",
        "    stddev = 1\n",
        "    )\n",
        "print(random_normal_tensor)"
      ],
      "metadata": {
        "colab": {
          "base_uri": "https://localhost:8080/"
        },
        "id": "p2CxTei9ld2V",
        "outputId": "c6656c71-9538-4752-e8ed-9e983430be78"
      },
      "execution_count": null,
      "outputs": [
        {
          "output_type": "stream",
          "name": "stdout",
          "text": [
            "tf.Tensor(\n",
            "[[-0.81490165 -0.00949798  1.2490461  -1.1624625   1.5918456 ]\n",
            " [-1.4386262   1.2484709   1.8905429  -0.40926474 -0.0116438 ]\n",
            " [ 0.9283654  -0.86199045  0.00930318 -1.8010933  -0.5006558 ]\n",
            " [ 0.5223751   2.2209046   1.0000424   0.56718576  0.16502164]], shape=(4, 5), dtype=float32)\n"
          ]
        }
      ]
    },
    {
      "cell_type": "code",
      "source": [
        "# return random values tensor that has uniform distribution\n",
        "tf.random.set_seed(5)\n",
        "random_uniform_tensor = tf.random.uniform(\n",
        "    [4,5],\n",
        "    minval = 0,\n",
        "    maxval = 100,\n",
        "    dtype = tf.int32,\n",
        "    seed = 10\n",
        "    )\n",
        "print(random_uniform_tensor)"
      ],
      "metadata": {
        "colab": {
          "base_uri": "https://localhost:8080/"
        },
        "id": "ChplWAzG0S4h",
        "outputId": "e8d64071-6165-4d4c-c6e7-290c34a4b36a"
      },
      "execution_count": null,
      "outputs": [
        {
          "output_type": "stream",
          "name": "stdout",
          "text": [
            "tf.Tensor(\n",
            "[[39  3 16 83 45]\n",
            " [86 62 28 31  8]\n",
            " [89  6 80 36 12]\n",
            " [39 58 40 14  4]], shape=(4, 5), dtype=int32)\n"
          ]
        }
      ]
    },
    {
      "cell_type": "code",
      "source": [
        "tensor_indexed = tf.constant([3,6,2,4,6,66,7])\n",
        "print(tensor_indexed)\n",
        "print(tensor_indexed[0:4])\n",
        "print(tensor_indexed[1:6:2])\n",
        "print(tensor_indexed[1:-1])"
      ],
      "metadata": {
        "colab": {
          "base_uri": "https://localhost:8080/"
        },
        "id": "lhDuz5t59RNd",
        "outputId": "9ee7adbd-7db8-422d-b0f2-a6027b2de346"
      },
      "execution_count": null,
      "outputs": [
        {
          "output_type": "stream",
          "name": "stdout",
          "text": [
            "tf.Tensor([ 3  6  2  4  6 66  7], shape=(7,), dtype=int32)\n",
            "tf.Tensor([3 6 2 4], shape=(4,), dtype=int32)\n",
            "tf.Tensor([ 6  4 66], shape=(3,), dtype=int32)\n",
            "tf.Tensor([ 6  2  4  6 66], shape=(5,), dtype=int32)\n"
          ]
        }
      ]
    },
    {
      "cell_type": "code",
      "source": [
        "# Two Dimension tensor\n",
        "tensor_two_d = tf.constant([\n",
        "    [1,2,0],\n",
        "    [3,5,-1],\n",
        "    [1,5,6],\n",
        "    [2,3,8]\n",
        "])\n",
        "#print(tensor_two_d)\n",
        "print(tensor_two_d[0:3, 0:2])"
      ],
      "metadata": {
        "colab": {
          "base_uri": "https://localhost:8080/"
        },
        "id": "yLNMFZiC_pQy",
        "outputId": "fe056d1f-259c-4cc8-ba89-224b5943df91"
      },
      "execution_count": null,
      "outputs": [
        {
          "output_type": "stream",
          "name": "stdout",
          "text": [
            "tf.Tensor(\n",
            "[[1 2]\n",
            " [3 5]\n",
            " [1 5]], shape=(3, 2), dtype=int32)\n"
          ]
        }
      ]
    },
    {
      "cell_type": "code",
      "source": [
        "print(tensor_two_d[0:3, :])"
      ],
      "metadata": {
        "colab": {
          "base_uri": "https://localhost:8080/"
        },
        "id": "GEzP4QwAFgpI",
        "outputId": "28768bc8-8544-4b98-aec9-5daa1308bd95"
      },
      "execution_count": null,
      "outputs": [
        {
          "output_type": "stream",
          "name": "stdout",
          "text": [
            "tf.Tensor(\n",
            "[[ 1  2  0]\n",
            " [ 3  5 -1]\n",
            " [ 1  5  6]], shape=(3, 3), dtype=int32)\n"
          ]
        }
      ]
    },
    {
      "cell_type": "code",
      "source": [
        "print(tensor_two_d[2, :])"
      ],
      "metadata": {
        "colab": {
          "base_uri": "https://localhost:8080/"
        },
        "id": "Tkbxc5cCGk34",
        "outputId": "e4ec863c-ba9a-4b8e-bc0e-61e9631a2d5d"
      },
      "execution_count": null,
      "outputs": [
        {
          "output_type": "stream",
          "name": "stdout",
          "text": [
            "tf.Tensor([1 5 6], shape=(3,), dtype=int32)\n"
          ]
        }
      ]
    },
    {
      "cell_type": "code",
      "source": [
        "print(tensor_two_d[:, 0])"
      ],
      "metadata": {
        "colab": {
          "base_uri": "https://localhost:8080/"
        },
        "id": "cxkGtNb7HBNn",
        "outputId": "e86ca9a9-0377-40b5-81e0-714734401ff1"
      },
      "execution_count": null,
      "outputs": [
        {
          "output_type": "stream",
          "name": "stdout",
          "text": [
            "tf.Tensor([1 3 1 2], shape=(4,), dtype=int32)\n"
          ]
        }
      ]
    },
    {
      "cell_type": "code",
      "source": [
        "print(tensor_two_d[..., 0])"
      ],
      "metadata": {
        "colab": {
          "base_uri": "https://localhost:8080/"
        },
        "id": "Na6kq2NVIj1X",
        "outputId": "a369aca8-502d-404f-ee1d-da4d3aee55b0"
      },
      "execution_count": null,
      "outputs": [
        {
          "output_type": "stream",
          "name": "stdout",
          "text": [
            "tf.Tensor([1 3 1 2], shape=(4,), dtype=int32)\n"
          ]
        }
      ]
    },
    {
      "cell_type": "code",
      "source": [
        "# Three Dimension tensor\n",
        "tensor_three_d = tf.constant(\n",
        "[[[1,2,0],\n",
        "  [3,5,-1]],\n",
        " [[10,2,0],\n",
        "  [1,0,2]],\n",
        " [[5,8,0],\n",
        "  [2,7,0]],\n",
        " [[2,1,9],\n",
        "  [4,-3,32]]])\n",
        "print(tensor_three_d[0, :, :])"
      ],
      "metadata": {
        "colab": {
          "base_uri": "https://localhost:8080/"
        },
        "id": "OE8lb2VhJKm4",
        "outputId": "a699bc89-0166-4a64-8158-9664508a88eb"
      },
      "execution_count": null,
      "outputs": [
        {
          "output_type": "stream",
          "name": "stdout",
          "text": [
            "tf.Tensor(\n",
            "[[ 1  2  0]\n",
            " [ 3  5 -1]], shape=(2, 3), dtype=int32)\n"
          ]
        }
      ]
    },
    {
      "cell_type": "code",
      "source": [
        "# ... (three dots) indicates all\n",
        "print(tensor_three_d[0, ..., :])"
      ],
      "metadata": {
        "id": "B2YcuLH8K_R5",
        "colab": {
          "base_uri": "https://localhost:8080/"
        },
        "outputId": "127e13b9-f3de-4261-ddc5-4b5587a62641"
      },
      "execution_count": null,
      "outputs": [
        {
          "output_type": "stream",
          "name": "stdout",
          "text": [
            "tf.Tensor(\n",
            "[[ 1  2  0]\n",
            " [ 3  5 -1]], shape=(2, 3), dtype=int32)\n"
          ]
        }
      ]
    },
    {
      "cell_type": "code",
      "source": [
        "# math functions\n",
        "x_abs = tf.constant([-2.5, 3.5])\n",
        "print(tf.abs(x_abs))"
      ],
      "metadata": {
        "colab": {
          "base_uri": "https://localhost:8080/"
        },
        "id": "BgMru9zuPOab",
        "outputId": "999742be-fca9-46d2-8683-18d0c7c2762c"
      },
      "execution_count": null,
      "outputs": [
        {
          "output_type": "stream",
          "name": "stdout",
          "text": [
            "tf.Tensor([2.5 3.5], shape=(2,), dtype=float32)\n"
          ]
        }
      ]
    },
    {
      "cell_type": "code",
      "source": [
        "# math functions - complex numbers\n",
        "x_complex = tf.constant([[-2.25+4.75j], [-3.25+5.75j]])\n",
        "print(tf.abs(x_complex))"
      ],
      "metadata": {
        "colab": {
          "base_uri": "https://localhost:8080/"
        },
        "id": "UDkz3KUqYGJK",
        "outputId": "17f78588-db86-4475-cebc-eb7884cbf77f"
      },
      "execution_count": null,
      "outputs": [
        {
          "output_type": "stream",
          "name": "stdout",
          "text": [
            "tf.Tensor(\n",
            "[[5.25594901]\n",
            " [6.60492241]], shape=(2, 1), dtype=float64)\n"
          ]
        }
      ]
    },
    {
      "cell_type": "code",
      "source": [
        "print(tf.sqrt((-2.25)**2 + 4.75**2))"
      ],
      "metadata": {
        "colab": {
          "base_uri": "https://localhost:8080/"
        },
        "id": "SH9A-7M6aHVA",
        "outputId": "82d270fe-5b84-4221-a172-9a82d16afd68"
      },
      "execution_count": null,
      "outputs": [
        {
          "output_type": "stream",
          "name": "stdout",
          "text": [
            "tf.Tensor(5.255949, shape=(), dtype=float32)\n"
          ]
        }
      ]
    },
    {
      "cell_type": "code",
      "source": [
        "x_1 = tf.constant([5,3,6,6,4,6], dtype=tf.int32)\n",
        "x_2 = tf.constant([7,6,2,6,7,11], dtype=tf.int32)\n",
        "x_3 = tf.add(x_1, x_2)\n",
        "#x_3 = x_1 + x_2\n",
        "print(x_3)"
      ],
      "metadata": {
        "colab": {
          "base_uri": "https://localhost:8080/"
        },
        "id": "OZelfzLdaeR2",
        "outputId": "17719d34-37a4-4bbf-9a36-da3243b1c0a7"
      },
      "execution_count": null,
      "outputs": [
        {
          "output_type": "stream",
          "name": "stdout",
          "text": [
            "tf.Tensor([12  9  8 12 11 17], shape=(6,), dtype=int32)\n"
          ]
        }
      ]
    },
    {
      "cell_type": "code",
      "source": [
        "x_1 = tf.constant([5,3,6,6,4,6], dtype=tf.int32)\n",
        "x_2 = tf.constant([7,6,2,6,7,11], dtype=tf.int32)\n",
        "x_3 = tf.multiply(x_1, x_2)\n",
        "print(x_3)"
      ],
      "metadata": {
        "colab": {
          "base_uri": "https://localhost:8080/"
        },
        "id": "K6JCTp68bTEo",
        "outputId": "caf4d04f-9ec9-4cb2-d86f-dfac7f4d4b9f"
      },
      "execution_count": null,
      "outputs": [
        {
          "output_type": "stream",
          "name": "stdout",
          "text": [
            "tf.Tensor([35 18 12 36 28 66], shape=(6,), dtype=int32)\n"
          ]
        }
      ]
    },
    {
      "cell_type": "code",
      "source": [
        "x_1 = tf.constant([5,3,6,6,4,6], dtype=tf.int32)\n",
        "x_2 = tf.constant([7,6,2,6,7,11], dtype=tf.int32)\n",
        "x_3 = tf.subtract(x_1, x_2)\n",
        "print(x_3)"
      ],
      "metadata": {
        "colab": {
          "base_uri": "https://localhost:8080/"
        },
        "id": "l3QgiE3jbnEh",
        "outputId": "6c4cd52e-f351-49a1-a32c-912b54b66ae5"
      },
      "execution_count": null,
      "outputs": [
        {
          "output_type": "stream",
          "name": "stdout",
          "text": [
            "tf.Tensor([-2 -3  4  0 -3 -5], shape=(6,), dtype=int32)\n"
          ]
        }
      ]
    },
    {
      "cell_type": "code",
      "source": [
        "x_1 = tf.constant([5,3,6,6,4,6], dtype=tf.int32)\n",
        "x_2 = tf.constant([7,6,2,6,7,11], dtype=tf.int32)\n",
        "x_3 = tf.divide(x_1, x_2)\n",
        "print(x_3)"
      ],
      "metadata": {
        "colab": {
          "base_uri": "https://localhost:8080/"
        },
        "id": "4cDKBUNTbtuX",
        "outputId": "2e257017-8ec0-4996-d942-75553ad97dcd"
      },
      "execution_count": null,
      "outputs": [
        {
          "output_type": "stream",
          "name": "stdout",
          "text": [
            "tf.Tensor([0.71428571 0.5        3.         1.         0.57142857 0.54545455], shape=(6,), dtype=float64)\n"
          ]
        }
      ]
    },
    {
      "cell_type": "code",
      "source": [
        "x_1 = tf.constant([5,3,6,6,4,6], dtype=tf.int32)\n",
        "x_2 = tf.constant([7,6,0,6,7,11], dtype=tf.int32)\n",
        "x_3 = tf.math.divide_no_nan(x_1, x_2)\n",
        "print(x_3)"
      ],
      "metadata": {
        "colab": {
          "base_uri": "https://localhost:8080/"
        },
        "id": "KtPViCdNdoUm",
        "outputId": "f41ec3e0-7767-42f4-c8a4-e86f0bc40e7d"
      },
      "execution_count": null,
      "outputs": [
        {
          "output_type": "stream",
          "name": "stdout",
          "text": [
            "tf.Tensor([0.71428571 0.5        0.         1.         0.57142857 0.54545455], shape=(6,), dtype=float64)\n"
          ]
        }
      ]
    },
    {
      "cell_type": "code",
      "source": [
        "x_1 = tf.constant([5,3,6,6,4,6], dtype=tf.int32)\n",
        "x_2 = tf.constant([7], dtype=tf.int32)\n",
        "x_3 = tf.add(x_1, x_2)\n",
        "print(x_3)"
      ],
      "metadata": {
        "colab": {
          "base_uri": "https://localhost:8080/"
        },
        "id": "CgEHVImKeAuO",
        "outputId": "fb893043-eae7-48c2-cf4f-de1356566bea"
      },
      "execution_count": null,
      "outputs": [
        {
          "output_type": "stream",
          "name": "stdout",
          "text": [
            "tf.Tensor([12 10 13 13 11 13], shape=(6,), dtype=int32)\n"
          ]
        }
      ]
    },
    {
      "cell_type": "code",
      "source": [
        "a = tf.constant([1.0, 3.0, 5.0])\n",
        "b = tf.constant([2.0, 2.0, 6.0])\n",
        "\n",
        "# Element-wise minimum\n",
        "min_result = tf.math.minimum(a, b)\n",
        "\n",
        "# Element-wise maximum\n",
        "max_result = tf.math.maximum(a, b)\n",
        "print(min_result)\n",
        "print(max_result)"
      ],
      "metadata": {
        "colab": {
          "base_uri": "https://localhost:8080/"
        },
        "id": "4JKzQmfAePTp",
        "outputId": "f5583735-d005-48f7-87dd-c5d8f33966e7"
      },
      "execution_count": null,
      "outputs": [
        {
          "output_type": "stream",
          "name": "stdout",
          "text": [
            "tf.Tensor([1. 2. 5.], shape=(3,), dtype=float32)\n",
            "tf.Tensor([2. 3. 6.], shape=(3,), dtype=float32)\n"
          ]
        }
      ]
    },
    {
      "cell_type": "code",
      "source": [
        "# math.argmax - returns index/position of the maximum value in each row below\n",
        "x_argmax = tf.constant([[2, 20, 30, 3, 6],\n",
        "                       [3, 11, 16, 1, 8],\n",
        "                       [14, 45, 23, 5, 27]])\n",
        "print(tf.math.argmax(x_argmax))"
      ],
      "metadata": {
        "colab": {
          "base_uri": "https://localhost:8080/"
        },
        "id": "eyQMdWLZe0FD",
        "outputId": "d0d8044c-bce8-4c5a-8d2f-2c82c9795b6e"
      },
      "execution_count": null,
      "outputs": [
        {
          "output_type": "stream",
          "name": "stdout",
          "text": [
            "tf.Tensor([2 2 0 2 2], shape=(5,), dtype=int64)\n"
          ]
        }
      ]
    },
    {
      "cell_type": "code",
      "source": [
        "x1_argmax = tf.constant([200, 120, 130, 3, 6])\n",
        "print(tf.math.argmax(x1_argmax))"
      ],
      "metadata": {
        "colab": {
          "base_uri": "https://localhost:8080/"
        },
        "id": "-AgIxL43g_w8",
        "outputId": "d7bad155-9ef9-4cb7-8cde-78b48cea706d"
      },
      "execution_count": null,
      "outputs": [
        {
          "output_type": "stream",
          "name": "stdout",
          "text": [
            "tf.Tensor(0, shape=(), dtype=int64)\n"
          ]
        }
      ]
    },
    {
      "cell_type": "code",
      "source": [
        "# math.argmin - returns index/position of the minimum value in each row below\n",
        "x2_argmin = tf.constant([200, 120, 130, 3, 6])\n",
        "print(tf.math.argmin(x2_argmin))"
      ],
      "metadata": {
        "colab": {
          "base_uri": "https://localhost:8080/"
        },
        "id": "KKQfTsDoh47s",
        "outputId": "6a3dfdca-ccc7-420b-9365-bc066da44799"
      },
      "execution_count": null,
      "outputs": [
        {
          "output_type": "stream",
          "name": "stdout",
          "text": [
            "tf.Tensor(3, shape=(), dtype=int64)\n"
          ]
        }
      ]
    },
    {
      "cell_type": "code",
      "source": [
        "# power\n",
        "x = tf.constant([[2, 2], [3, 3]])\n",
        "y = tf.constant([[8, 16], [2, 3]])\n",
        "print(tf.pow(x,y))"
      ],
      "metadata": {
        "colab": {
          "base_uri": "https://localhost:8080/"
        },
        "id": "tpyXBBlVnW9G",
        "outputId": "3f26fd8e-fd36-4d13-9353-6bb2bc712508"
      },
      "execution_count": null,
      "outputs": [
        {
          "output_type": "stream",
          "name": "stdout",
          "text": [
            "tf.Tensor(\n",
            "[[  256 65536]\n",
            " [    9    27]], shape=(2, 2), dtype=int32)\n"
          ]
        }
      ]
    },
    {
      "cell_type": "code",
      "source": [
        "# tf.math.reduce_sum - computes the sum of elements across dimensions of a tensor\n",
        "tensor_two_d = tf.constant([\n",
        "    [1,2,0],\n",
        "    [3,5,-1],\n",
        "    [1,5,6],\n",
        "    [2,3,8]\n",
        "])\n",
        "\n",
        "# Sums all the elements of tensor\n",
        "print(tf.math.reduce_sum(tensor_two_d))\n"
      ],
      "metadata": {
        "colab": {
          "base_uri": "https://localhost:8080/"
        },
        "id": "D4cY-eIIoUpt",
        "outputId": "2a3013fd-af1a-4aaa-9b81-602377a5c901"
      },
      "execution_count": null,
      "outputs": [
        {
          "output_type": "stream",
          "name": "stdout",
          "text": [
            "tf.Tensor(35, shape=(), dtype=int32)\n"
          ]
        }
      ]
    },
    {
      "cell_type": "code",
      "source": [
        "print(tf.math.reduce_max(tensor_two_d))"
      ],
      "metadata": {
        "colab": {
          "base_uri": "https://localhost:8080/"
        },
        "id": "XQcZKYvZuGaD",
        "outputId": "f0169559-998b-4078-a86f-01fcef0a1a08"
      },
      "execution_count": null,
      "outputs": [
        {
          "output_type": "stream",
          "name": "stdout",
          "text": [
            "tf.Tensor(8, shape=(), dtype=int32)\n"
          ]
        }
      ]
    },
    {
      "cell_type": "code",
      "source": [
        "print(tf.math.reduce_min(tensor_two_d))"
      ],
      "metadata": {
        "colab": {
          "base_uri": "https://localhost:8080/"
        },
        "id": "7oIMdfbAOGQ7",
        "outputId": "1c53c37b-c36a-44f4-9bf7-7c88715bcf29"
      },
      "execution_count": null,
      "outputs": [
        {
          "output_type": "stream",
          "name": "stdout",
          "text": [
            "tf.Tensor(-1, shape=(), dtype=int32)\n"
          ]
        }
      ]
    },
    {
      "cell_type": "code",
      "source": [
        "print(tf.math.reduce_sum(tensor_two_d, axis = 0))"
      ],
      "metadata": {
        "colab": {
          "base_uri": "https://localhost:8080/"
        },
        "id": "aZMJ5LPAOlcM",
        "outputId": "d5967811-4af0-4c02-c69b-3efe4ba29725"
      },
      "execution_count": null,
      "outputs": [
        {
          "output_type": "stream",
          "name": "stdout",
          "text": [
            "tf.Tensor([ 7 15 13], shape=(3,), dtype=int32)\n"
          ]
        }
      ]
    },
    {
      "cell_type": "code",
      "source": [
        "print(tf.math.reduce_sum(tensor_two_d, axis = 1))"
      ],
      "metadata": {
        "colab": {
          "base_uri": "https://localhost:8080/"
        },
        "id": "AUWhfMaxPLU9",
        "outputId": "17848984-b9f4-4271-cdf5-1662b1ab6475"
      },
      "execution_count": null,
      "outputs": [
        {
          "output_type": "stream",
          "name": "stdout",
          "text": [
            "tf.Tensor([ 3  7 12 13], shape=(4,), dtype=int32)\n"
          ]
        }
      ]
    },
    {
      "cell_type": "code",
      "source": [
        "print(tf.math.reduce_mean(tensor_two_d, axis = 1))"
      ],
      "metadata": {
        "colab": {
          "base_uri": "https://localhost:8080/"
        },
        "id": "BIvgRFWMa6Dc",
        "outputId": "cca4c908-a13a-4b58-bb93-0dff2c136779"
      },
      "execution_count": null,
      "outputs": [
        {
          "output_type": "stream",
          "name": "stdout",
          "text": [
            "tf.Tensor([1 2 4 4], shape=(4,), dtype=int32)\n"
          ]
        }
      ]
    },
    {
      "cell_type": "code",
      "source": [
        "tensor_2d_casted = tf.cast(tensor_two_d, dtype=tf.float16)\n",
        "print(tf.math.reduce_std(tensor_2d_casted, axis = 1, keepdims=False))"
      ],
      "metadata": {
        "colab": {
          "base_uri": "https://localhost:8080/"
        },
        "id": "tIzSU225eIXa",
        "outputId": "37682a12-f3a9-48fc-9d39-cb9fcd33d332"
      },
      "execution_count": null,
      "outputs": [
        {
          "output_type": "stream",
          "name": "stdout",
          "text": [
            "tf.Tensor([0.8164 2.494  2.16   2.625 ], shape=(4,), dtype=float16)\n"
          ]
        }
      ]
    },
    {
      "cell_type": "code",
      "source": [
        "print(tf.math.top_k(tensor_two_d, k=1))"
      ],
      "metadata": {
        "colab": {
          "base_uri": "https://localhost:8080/"
        },
        "id": "-pDk2mYDgnb5",
        "outputId": "b8e00eb5-4282-43d5-bed2-5079b908966f"
      },
      "execution_count": null,
      "outputs": [
        {
          "output_type": "stream",
          "name": "stdout",
          "text": [
            "TopKV2(values=<tf.Tensor: shape=(4, 1), dtype=int32, numpy=\n",
            "array([[2],\n",
            "       [5],\n",
            "       [6],\n",
            "       [8]], dtype=int32)>, indices=<tf.Tensor: shape=(4, 1), dtype=int32, numpy=\n",
            "array([[1],\n",
            "       [1],\n",
            "       [2],\n",
            "       [2]], dtype=int32)>)\n"
          ]
        }
      ]
    },
    {
      "cell_type": "code",
      "source": [
        "# top 2 largest numbers in each row and their corresponding indices\n",
        "print(tf.math.top_k(tensor_two_d, k=2))"
      ],
      "metadata": {
        "colab": {
          "base_uri": "https://localhost:8080/"
        },
        "id": "abw1x-dsjWYk",
        "outputId": "b06aa8cd-0f13-49be-9870-0aaf61a6f7a6"
      },
      "execution_count": null,
      "outputs": [
        {
          "output_type": "stream",
          "name": "stdout",
          "text": [
            "TopKV2(values=<tf.Tensor: shape=(4, 2), dtype=int32, numpy=\n",
            "array([[2, 1],\n",
            "       [5, 3],\n",
            "       [6, 5],\n",
            "       [8, 3]], dtype=int32)>, indices=<tf.Tensor: shape=(4, 2), dtype=int32, numpy=\n",
            "array([[1, 0],\n",
            "       [1, 0],\n",
            "       [2, 1],\n",
            "       [2, 1]], dtype=int32)>)\n"
          ]
        }
      ]
    },
    {
      "cell_type": "code",
      "source": [
        "# Linear Algebra operations\n",
        "# Matrix multiplication -> tf.linalg.matmul\n",
        "x_1 = tf.constant([[2, 2], [3, 3]])\n",
        "y_1 = tf.constant([[8, 16], [2, 3]])\n",
        "print(tf.linalg.matmul(x_1,y_1))"
      ],
      "metadata": {
        "colab": {
          "base_uri": "https://localhost:8080/"
        },
        "id": "yg3TaNzjju7y",
        "outputId": "4ebde6a4-ad46-442f-cd61-6c94bdfe71d1"
      },
      "execution_count": null,
      "outputs": [
        {
          "output_type": "stream",
          "name": "stdout",
          "text": [
            "tf.Tensor(\n",
            "[[20 38]\n",
            " [30 57]], shape=(2, 2), dtype=int32)\n"
          ]
        }
      ]
    },
    {
      "cell_type": "code",
      "source": [
        "# Matrix multiplication\n",
        "print(x_1@y_1)"
      ],
      "metadata": {
        "colab": {
          "base_uri": "https://localhost:8080/"
        },
        "id": "sN7I6rd2rCHq",
        "outputId": "e1ad0449-2e8a-4c93-8c50-b34f5fd318ad"
      },
      "execution_count": null,
      "outputs": [
        {
          "output_type": "stream",
          "name": "stdout",
          "text": [
            "tf.Tensor(\n",
            "[[20 38]\n",
            " [30 57]], shape=(2, 2), dtype=int32)\n"
          ]
        }
      ]
    },
    {
      "cell_type": "code",
      "source": [
        "# Transpose of matrix\n",
        "print(tf.transpose(x_1))"
      ],
      "metadata": {
        "colab": {
          "base_uri": "https://localhost:8080/"
        },
        "id": "gooCIB6RraiM",
        "outputId": "e54aefa3-9fb1-4fa0-e340-dd5825693805"
      },
      "execution_count": null,
      "outputs": [
        {
          "output_type": "stream",
          "name": "stdout",
          "text": [
            "tf.Tensor(\n",
            "[[2 3]\n",
            " [2 3]], shape=(2, 2), dtype=int32)\n"
          ]
        }
      ]
    },
    {
      "cell_type": "code",
      "source": [
        "# Sparse Tensors\n"
      ],
      "metadata": {
        "id": "fqdRgx0csBDO"
      },
      "execution_count": null,
      "outputs": []
    },
    {
      "cell_type": "code",
      "source": [
        "# tf.linalg.band_part"
      ],
      "metadata": {
        "id": "pzqTLOTDD6EH"
      },
      "execution_count": null,
      "outputs": []
    }
  ]
}